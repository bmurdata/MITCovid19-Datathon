{
 "cells": [
  {
   "cell_type": "markdown",
   "metadata": {},
   "source": [
    "# Covid Dataset Review"
   ]
  },
  {
   "cell_type": "markdown",
   "metadata": {},
   "source": [
    "Request: \n",
    "Clean data and get GeoData if possible from:\n",
    "\n",
    "### Community Health Survey\n",
    "\n",
    "- Only up to 2018\n",
    "\n",
    "- SAS or converter required for it to work.\n",
    "\n",
    "- No zip codes, neighborhood data liste in Codebook but not in file when converted to CSV from sas7bdat. \n",
    "\n",
    "- NOTE: For Neighborhood data (borough, community district, etc):\n",
    "- Available with a Data Use Agreement. \n",
    "- Please contact EpiDataRequest@health.nyc.gov\n",
    "\n",
    "- lots of irrelevant fields (Prison info, etc.)\n",
    "\n",
    "- Dataset Page https://www1.nyc.gov/site/doh/data/data-sets/community-health-survey-public-use-data.page\n",
    "- Code book for dataset https://www1.nyc.gov/assets/doh/downloads/pdf/episrv/chs2017-codebook.pdf\n",
    "\n",
    "- Vital stats pageand other data page https://www1.nyc.gov/site/doh/data/data-sets/vital-statistics-data.page\n",
    "### NYC Health and Hospitals data-Github https://github.com/nychealth/coronavirus-data\n",
    "\n",
    "- No zip data on death location, only tests\n",
    "\n",
    "- Zips not 100% match to Mzcta- 37 do not match\n",
    "\n",
    "- Successfully made a table that matches the ZCTA to Modzcta\n",
    "\n",
    "- https://github.com/nychealth/coronavirus-data\n",
    "\n",
    "- Visualizations exsist made by DOHM https://www1.nyc.gov/site/doh/covid/covid-19-data.page\n",
    "\n",
    "### Taxi data\n",
    "\n",
    "- has Taxi zone codes instead of zip codes\n",
    "\n",
    "- See here for Monthly Breakdowns https://www1.nyc.gov/site/tlc/about/tlc-trip-record-data.page\n",
    "\n",
    "- Bit of a nightmare- TLC codes, no clear match to Zip. However, shapre files and such exist\n",
    "\n",
    "- Factbook exists https://www1.nyc.gov/assets/tlc/downloads/pdf/2018_tlc_factbook.pdf\n",
    "\n",
    "- Hard to clean, downloading data not recommeneded due to size, (100 million records), need to use Socrata to trim the data\n",
    "\n",
    "\n",
    "\n"
   ]
  },
  {
   "cell_type": "markdown",
   "metadata": {},
   "source": [
    "## Community Health Survey"
   ]
  },
  {
   "cell_type": "markdown",
   "metadata": {},
   "source": [
    "Converted the Community Health Survey to CSV\n",
    "Using the sas7bdat module for Python\n",
    "\n",
    "python C:\\[path-to-Venv-Scripts]\\Scripts\\sas7bdat_to_csv \"M:\\git\\chs2018_public.sas7bdat\"\n"
   ]
  },
  {
   "cell_type": "code",
   "execution_count": null,
   "metadata": {},
   "outputs": [],
   "source": []
  }
 ],
 "metadata": {
  "kernelspec": {
   "display_name": "Python 3",
   "language": "python",
   "name": "python3"
  },
  "language_info": {
   "codemirror_mode": {
    "name": "ipython",
    "version": 3
   },
   "file_extension": ".py",
   "mimetype": "text/x-python",
   "name": "python",
   "nbconvert_exporter": "python",
   "pygments_lexer": "ipython3",
   "version": "3.7.4"
  }
 },
 "nbformat": 4,
 "nbformat_minor": 2
}
